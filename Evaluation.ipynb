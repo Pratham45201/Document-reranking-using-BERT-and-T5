{
 "cells": [
  {
   "cell_type": "code",
   "execution_count": null,
   "metadata": {},
   "outputs": [],
   "source": [
    "import re"
   ]
  },
  {
   "cell_type": "code",
   "execution_count": null,
   "metadata": {},
   "outputs": [],
   "source": [
    "def load_reference_from_stream(f):\n",
    "    qids_to_relevant_passageids = {}\n",
    "    for line in f:\n",
    "        try:\n",
    "            tokens = re.split('[\\t\\s]', line.strip())\n",
    "            qid = int(tokens[0])\n",
    "            pid = int(tokens[2])\n",
    "            if qid not in qids_to_relevant_passageids:\n",
    "                qids_to_relevant_passageids[qid] = []\n",
    "            qids_to_relevant_passageids[qid].append(pid)\n",
    "        except:\n",
    "            raise IOError(f'\"{line}\" is not a valid format')\n",
    "    return qids_to_relevant_passageids\n",
    "\n",
    "def load_reference(path_to_reference):\n",
    "    with open(path_to_reference, 'r', encoding='utf-8') as f:\n",
    "        qids_to_relevant_passageids = load_reference_from_stream(f)\n",
    "    return qids_to_relevant_passageids\n"
   ]
  },
  {
   "cell_type": "code",
   "execution_count": null,
   "metadata": {},
   "outputs": [],
   "source": [
    "\n",
    "def load_candidate_from_stream(f):\n",
    "    qid_to_ranked_candidate_passages = {}\n",
    "    for line in f:\n",
    "        try:\n",
    "            tokens = line.strip().split('\\t')\n",
    "            qid = int(tokens[0])\n",
    "            pid = int(tokens[1])\n",
    "            rank = int(tokens[2])\n",
    "            if qid not in qid_to_ranked_candidate_passages:\n",
    "                qid_to_ranked_candidate_passages[qid] = {}\n",
    "            qid_to_ranked_candidate_passages[qid][rank] = pid\n",
    "        except:\n",
    "            raise IOError(f'\"{line}\" is not a valid format')\n",
    "    for qid in qid_to_ranked_candidate_passages:\n",
    "        ranked_passages = [pid for _, pid in sorted(qid_to_ranked_candidate_passages[qid].items())]\n",
    "        qid_to_ranked_candidate_passages[qid] = ranked_passages\n",
    "    return qid_to_ranked_candidate_passages\n",
    "\n",
    "def load_candidate(path_to_candidate):\n",
    "    with open(path_to_candidate, 'r', encoding='utf-8') as f:\n",
    "        qid_to_ranked_candidate_passages = load_candidate_from_stream(f)\n",
    "    return qid_to_ranked_candidate_passages"
   ]
  },
  {
   "cell_type": "code",
   "execution_count": null,
   "metadata": {},
   "outputs": [],
   "source": [
    "def compute_metrics(qids_to_relevant_passageids, qids_to_ranked_candidate_passages):\n",
    "    MaxMRRRank = 10\n",
    "    total_queries = len(qids_to_relevant_passageids)\n",
    "    MRR = 0.0\n",
    "    MRR_at_10 = 0.0\n",
    "\n",
    "    for qid in qids_to_relevant_passageids:\n",
    "        if qid in qids_to_ranked_candidate_passages:\n",
    "            target_pids = set(qids_to_relevant_passageids[qid])\n",
    "            candidate_pids = qids_to_ranked_candidate_passages[qid]\n",
    "            reciprocal_rank = 0.0\n",
    "            reciprocal_rank_at_10 = 0.0\n",
    "\n",
    "            for rank, pid in enumerate(candidate_pids, start=1):\n",
    "                if pid in target_pids:\n",
    "                    reciprocal_rank = 1.0 / rank\n",
    "                    if rank <= MaxMRRRank:\n",
    "                        reciprocal_rank_at_10 = reciprocal_rank\n",
    "                    break\n",
    "            MRR += reciprocal_rank\n",
    "            MRR_at_10 += reciprocal_rank_at_10\n",
    "\n",
    "    MRR /= total_queries\n",
    "    MRR_at_10 /= total_queries\n",
    "\n",
    "    return {'MRR': MRR, 'MRR@10': MRR_at_10}"
   ]
  },
  {
   "cell_type": "code",
   "execution_count": null,
   "metadata": {},
   "outputs": [],
   "source": [
    "def compute_metrics_from_files(path_to_reference, path_to_candidate):\n",
    "    qids_to_relevant_passageids = load_reference(path_to_reference)\n",
    "    qids_to_ranked_candidate_passages = load_candidate(path_to_candidate)\n",
    "\n",
    "    metrics = compute_metrics(qids_to_relevant_passageids, qids_to_ranked_candidate_passages)\n",
    "    return metrics"
   ]
  },
  {
   "cell_type": "code",
   "execution_count": null,
   "metadata": {},
   "outputs": [],
   "source": [
    "path_to_reference = r\"D:\\Lightinign\\msmarco_ans_small\\msmarco_ans_small\\qrels.dev.small.tsv\"\n",
    "path_to_candidate = r\"C:\\Users\\rohit\\Downloads\\run.monobert.dev.small.tsv\\run.monobert.dev.small.tsv\"\n",
    "\n",
    "metrics = compute_metrics_from_files(path_to_reference, path_to_candidate)\n",
    "\n",
    "print('#####################')\n",
    "for metric in sorted(metrics):\n",
    "    print(f'{metric}: {metrics[metric]:.4f}')\n",
    "print('#####################')"
   ]
  }
 ],
 "metadata": {
  "kernelspec": {
   "display_name": "Python 3",
   "language": "python",
   "name": "python3"
  },
  "language_info": {
   "name": "python",
   "version": "3.11.9"
  }
 },
 "nbformat": 4,
 "nbformat_minor": 2
}
