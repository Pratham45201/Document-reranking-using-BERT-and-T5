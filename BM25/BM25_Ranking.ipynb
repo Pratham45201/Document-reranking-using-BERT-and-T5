{
 "cells": [
  {
   "cell_type": "code",
   "execution_count": null,
   "metadata": {
    "colab": {
     "base_uri": "https://localhost:8080/"
    },
    "id": "mBSJFOPLZKLC",
    "outputId": "58f4502c-1be4-4942-e5de-765fc280d7a9"
   },
   "outputs": [],
   "source": [
    "!wget https://msmarco.z22.web.core.windows.net/msmarcoranking/collection.tar.gz\n",
    "!wget https://msmarco.z22.web.core.windows.net/msmarcoranking/queries.tar.gz\n",
    "!wget https://msmarco.z22.web.core.windows.net/msmarcoranking/qrels.dev.tsv"
   ]
  },
  {
   "cell_type": "code",
   "execution_count": null,
   "metadata": {
    "colab": {
     "base_uri": "https://localhost:8080/"
    },
    "id": "zALD-KrvZljp",
    "outputId": "529416ab-ae82-4e54-8ae4-5fcd28c82cbe"
   },
   "outputs": [],
   "source": [
    "!tar -xzvf /content/collection.tar.gz\n",
    "!tar -xzvf /content/queries.tar.gz"
   ]
  },
  {
   "cell_type": "code",
   "execution_count": null,
   "metadata": {
    "colab": {
     "base_uri": "https://localhost:8080/"
    },
    "id": "-IY5xCbeZrT6",
    "outputId": "ebca43f6-c6bb-479b-fc08-238c8a03d0ad"
   },
   "outputs": [],
   "source": [
    "!pip install python-terrier"
   ]
  },
  {
   "cell_type": "code",
   "execution_count": null,
   "metadata": {},
   "outputs": [],
   "source": [
    "import pyterrier as pt\n",
    "import os\n",
    "from multiprocessing import Pool"
   ]
  },
  {
   "cell_type": "code",
   "execution_count": null,
   "metadata": {
    "colab": {
     "base_uri": "https://localhost:8080/"
    },
    "id": "VjZdYzqGD17Y",
    "outputId": "cde5fbc4-598c-46b1-a8b0-1c6dd4ec0988"
   },
   "outputs": [],
   "source": [
    "if not pt.java.started():\n",
    "    pt.java.init() \n",
    "    \n",
    "collection_path = \"/content/collection.tsv\"\n",
    "queries_path = \"/content/queries.dev.tsv\"\n",
    "qrels_path = \"/content/qrels.dev.tsv\"\n",
    "index_path = \"/content/msmarco_passage_index\"\n",
    "\n",
    "def process_line(line):\n",
    "    doc_id, text = line.strip().split('\\t', 1)\n",
    "    return {'docno': doc_id, 'text': text}\n",
    "\n",
    "def load_collection_parallel(file_path):\n",
    "    with open(file_path, 'r', encoding='utf-8') as f:\n",
    "        with Pool() as pool:\n",
    "            return pool.map(process_line, f)\n",
    "\n",
    "if not os.path.exists(index_path + \"/data.properties\"):\n",
    "    indexer = pt.IterDictIndexer(index_path)\n",
    "    index_ref = indexer.index(load_collection_parallel(collection_path), fields=[\"text\"])\n",
    "else:\n",
    "    index_ref = pt.IndexFactory.of(index_path)\n",
    "\n",
    "topics = pt.io.read_topics(queries_path, format=\"singleline\")\n",
    "qrels = pt.io.read_qrels(qrels_path)\n",
    "\n",
    "bm25 = pt.terrier.Retriever(index_ref, wmodel=\"BM25\")\n",
    "\n",
    "eval_results = pt.Experiment(\n",
    "    [bm25],\n",
    "    topics,\n",
    "    qrels,\n",
    "    eval_metrics=[\"mrr@10\"],  # MRR evaluated over the top 10 results\n",
    "    names=[\"BM25\"],\n",
    ")\n",
    "\n",
    "print(eval_results)"
   ]
  },
  {
   "cell_type": "code",
   "execution_count": null,
   "metadata": {
    "id": "S208ghzdb8y6"
   },
   "outputs": [],
   "source": [
    "results = bm25.transform(topics).head(1000)\n",
    "results.to_json(\"bm_25_rank.json\")"
   ]
  }
 ],
 "metadata": {
  "colab": {
   "provenance": []
  },
  "kernelspec": {
   "display_name": "Python 3",
   "name": "python3"
  },
  "language_info": {
   "name": "python"
  }
 },
 "nbformat": 4,
 "nbformat_minor": 0
}
