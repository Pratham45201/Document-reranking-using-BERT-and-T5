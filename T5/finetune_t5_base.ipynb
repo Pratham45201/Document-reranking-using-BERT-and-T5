{
 "cells": [
  {
   "cell_type": "code",
   "execution_count": null,
   "metadata": {},
   "outputs": [],
   "source": [
    "import os\n",
    "import json\n",
    "import pickle\n",
    "import numpy as np\n",
    "import pandas as pd\n",
    "from tqdm import tqdm\n",
    "import torch\n",
    "from torch.utils.data import Dataset\n",
    "from transformers import (\n",
    "    AutoTokenizer,\n",
    "    AutoConfig,\n",
    "    AutoModelForSequenceClassification,\n",
    "    AutoModelForSeq2SeqLM,\n",
    "    Seq2SeqTrainer,\n",
    "    Seq2SeqTrainingArguments,\n",
    "    DataCollatorForSeq2Seq,\n",
    "    TrainerCallback\n",
    ")"
   ]
  },
  {
   "cell_type": "code",
   "execution_count": null,
   "metadata": {},
   "outputs": [],
   "source": [
    "EPOCHS = 1\n",
    "LEARNING_RATE = 1e-4\n",
    "BATCH_SIZE = 8\n",
    "OUTPUT_PATH = \"./output\"\n",
    "MODEL = \"t5-base\"\n",
    "DATA_PATH = '../data/qrels.train.tsv'"
   ]
  },
  {
   "cell_type": "code",
   "execution_count": null,
   "metadata": {},
   "outputs": [],
   "source": [
    "# Converting MS-MARCO to torch dataset for fine-tuning\n",
    "\n",
    "\n",
    "class dataset(Dataset):\n",
    "    def __init__(self, data):\n",
    "        self.data = data\n",
    "\n",
    "    def __len__(self):\n",
    "        return len(self.data)\n",
    "\n",
    "    def __getitem__(self, idx):\n",
    "        sample = self.data[idx]\n",
    "        text = f'Query: {sample[0]} Document: {sample[1]} Relevant:'\n",
    "        return {\n",
    "          'text': text,\n",
    "          'labels': sample[2],\n",
    "        }"
   ]
  },
  {
   "cell_type": "code",
   "execution_count": null,
   "metadata": {},
   "outputs": [],
   "source": [
    "# Using T5-base for fine-tuning\n",
    "device = torch.device(\"cuda\" if torch.cuda.is_available() else \"cpu\")\n",
    "torch.manual_seed(101)\n",
    "\n",
    "model = AutoModelForSeq2SeqLM.from_pretrained(MODEL).to(device)\n",
    "tokenizer = AutoTokenizer.from_pretrained(MODEL)"
   ]
  },
  {
   "cell_type": "code",
   "execution_count": null,
   "metadata": {},
   "outputs": [],
   "source": [
    "# Processing MS-MARCO dataset\n",
    "\n",
    "train_samples = []\n",
    "with open(DATA_PATH, 'r', encoding='utf-8') as file:\n",
    "    for num, line in tqdm(enumerate(file)):\n",
    "        if num == 0: continue\n",
    "        if num > 6.4e5 * 10:\n",
    "            break\n",
    "        query, positive, negative = line.split(\"\\t\")\n",
    "        train_samples.append((query, positive, 'true'))\n",
    "        train_samples.append((query, negative, 'false'))"
   ]
  },
  {
   "cell_type": "code",
   "execution_count": null,
   "metadata": {},
   "outputs": [],
   "source": [
    "dataset_train = dataset(train_samples)"
   ]
  },
  {
   "cell_type": "code",
   "execution_count": null,
   "metadata": {},
   "outputs": [],
   "source": [
    "# Setting training arguments and parameters\n",
    "\n",
    "train_args = Seq2SeqTrainingArguments(\n",
    "    predict_with_generate=True,\n",
    "    remove_unused_columns=False, \n",
    "    output_dir=OUTPUT_PATH,\n",
    "    do_train=True,\n",
    "    save_strategy='steps',\n",
    "    save_steps=10000,\n",
    "    logging_steps=100,\n",
    "    per_device_train_batch_size=BATCH_SIZE,\n",
    "    gradient_accumulation_steps=16,\n",
    "    learning_rate=LEARNING_RATE,\n",
    "    weight_decay=5e-5,\n",
    "    num_train_epochs=EPOCHS,\n",
    "    warmup_steps=1000,\n",
    "    adafactor=True,\n",
    "    seed=1,\n",
    "    disable_tqdm=False,\n",
    "    load_best_model_at_end=False,\n",
    "    dataloader_pin_memory=False,\n",
    ")"
   ]
  },
  {
   "cell_type": "code",
   "execution_count": null,
   "metadata": {},
   "outputs": [],
   "source": [
    "def data_collate(batch):\n",
    "    texts = [example[\"text\"] for example in batch]\n",
    "    tokenized = tokenizer(\n",
    "        texts,\n",
    "        padding=True,\n",
    "        truncation=\"longest_first\",\n",
    "        return_tensors=\"pt\",\n",
    "        max_length=512,\n",
    "    )\n",
    "\n",
    "    tokenized[\"labels\"] = tokenizer(\n",
    "        [example[\"labels\"] for example in batch], return_tensors=\"pt\"\n",
    "    )[\"input_ids\"]\n",
    "\n",
    "    for name in tokenized:\n",
    "        tokenized[name] = tokenized[name].to(device)\n",
    "\n",
    "    return tokenized"
   ]
  },
  {
   "cell_type": "code",
   "execution_count": null,
   "metadata": {},
   "outputs": [],
   "source": [
    "trainer = Seq2SeqTrainer(\n",
    "    model=model,\n",
    "    args=train_args,\n",
    "    train_dataset=dataset_train,\n",
    "    tokenizer=tokenizer,\n",
    "    data_collator=data_collate,\n",
    ")\n",
    "\n",
    "trainer.train()\n",
    "\n",
    "trainer.save_model(OUTPUT_PATH)\n",
    "trainer.save_state()"
   ]
  }
 ],
 "metadata": {
  "kernelspec": {
   "display_name": "torch",
   "language": "python",
   "name": "python3"
  },
  "language_info": {
   "codemirror_mode": {
    "name": "ipython",
    "version": 3
   },
   "file_extension": ".py",
   "mimetype": "text/x-python",
   "name": "python",
   "nbconvert_exporter": "python",
   "pygments_lexer": "ipython3",
   "version": "3.12.2"
  }
 },
 "nbformat": 4,
 "nbformat_minor": 2
}
