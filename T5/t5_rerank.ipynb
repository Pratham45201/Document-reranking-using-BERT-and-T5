{
 "cells": [
  {
   "cell_type": "code",
   "execution_count": 1,
   "metadata": {},
   "outputs": [],
   "source": [
    "import pandas as pd\n",
    "import torch\n",
    "from transformers import (\n",
    "    AutoTokenizer,\n",
    "    AutoModelForSeq2SeqLM,\n",
    ")\n",
    "from dataclasses import dataclass\n",
    "from typing import Tuple, List, Optional, Mapping, Any\n",
    "\n",
    "torch.manual_seed(101)\n",
    "device = torch.device(\"cuda\" if torch.cuda.is_available() else \"cpu\")"
   ]
  },
  {
   "cell_type": "code",
   "execution_count": null,
   "metadata": {},
   "outputs": [],
   "source": [
    "# Loading bm-25 ranked documents\n",
    "\n",
    "df = pd.read_json(\"../data/bm_25_ranking.json\")\n",
    "df.head()"
   ]
  },
  {
   "cell_type": "code",
   "execution_count": null,
   "metadata": {},
   "outputs": [],
   "source": [
    "# Re-rank documents using fine-tuned model\n",
    "\n",
    "\n",
    "class Reranker():\n",
    "\n",
    "    def __init__(self, model_name):\n",
    "        self.device = \"cuda\" if torch.cuda.is_available() else \"cpu\"\n",
    "        self.model = AutoModelForSeq2SeqLM.from_pretrained(model_name).to(self.device)\n",
    "        self.tokenizer = AutoTokenizer.from_pretrained(model_name)\n",
    "\n",
    "    def rank_documents(self,\n",
    "                       query: str,\n",
    "                       documents: List[str],\n",
    "                       top_k: int = 10) -> List[Tuple[str, float]]:\n",
    "        \n",
    "        scores = []\n",
    "        for doc in documents:\n",
    "            input_text = f\"Query: {query} Document: {doc} Relevant: \"\n",
    "            inputs = self.tokenizer(\n",
    "                input_text,\n",
    "                return_tensors=\"pt\",\n",
    "                max_length=512,\n",
    "                truncation=True\n",
    "            ).to(self.device)\n",
    "        \n",
    "            with torch.no_grad():\n",
    "                outputs = self.model(**inputs, labels=inputs[\"input_ids\"])\n",
    "                score = outputs.loss.item()\n",
    "            scores.append(score)\n",
    "\n",
    "        ranked_docs = list(zip(documents, scores))\n",
    "        ranked_docs.sort(key=lambda x: x[1], reverse=True)\n",
    "\n",
    "        return ranked_docs[:top_k]\n",
    "\n",
    "    def print_ranking(self,\n",
    "                      query: str,\n",
    "                      documents: List[str]) -> None:\n",
    "        ranked_results = self.rank_documents(query, documents)\n",
    "        print(f\"\\n {query} \\n\")\n",
    "        for rank, (doc, score) in enumerate(ranked_results, 1):\n",
    "            print(f\"{rank}. Document: {doc[:100]}...\\n\")"
   ]
  },
  {
   "cell_type": "code",
   "execution_count": null,
   "metadata": {},
   "outputs": [],
   "source": [
    "# Example of a re-rank on 1000 documents \n",
    "\n",
    "query = df[\"query\"].unique()[0]\n",
    "relevant_documents = df[df[\"query\"] == query][\"doc\"].values"
   ]
  },
  {
   "cell_type": "code",
   "execution_count": null,
   "metadata": {},
   "outputs": [],
   "source": [
    "model_1 = \"pratham4521/T5-base-masmarco-finetuned\"\n",
    "ranker = Reranker(model_name = model_1)\n",
    "ranker.print_ranking(query, relevant_documents)"
   ]
  }
 ],
 "metadata": {
  "kernelspec": {
   "display_name": "torch",
   "language": "python",
   "name": "python3"
  },
  "language_info": {
   "codemirror_mode": {
    "name": "ipython",
    "version": 3
   },
   "file_extension": ".py",
   "mimetype": "text/x-python",
   "name": "python",
   "nbconvert_exporter": "python",
   "pygments_lexer": "ipython3",
   "version": "3.12.2"
  }
 },
 "nbformat": 4,
 "nbformat_minor": 2
}
