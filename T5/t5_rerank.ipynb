{
 "cells": [
  {
   "cell_type": "code",
   "execution_count": 1,
   "metadata": {},
   "outputs": [],
   "source": [
    "import pandas as pd\n",
    "import torch\n",
    "from transformers import (\n",
    "    AutoTokenizer,\n",
    "    AutoModelForSeq2SeqLM,\n",
    ")\n",
    "from dataclasses import dataclass\n",
    "from typing import Tuple, List, Optional, Mapping, Any\n",
    "\n",
    "torch.manual_seed(101)\n",
    "device = torch.device(\"cuda\" if torch.cuda.is_available() else \"cpu\")"
   ]
  },
  {
   "cell_type": "code",
   "execution_count": 2,
   "metadata": {},
   "outputs": [
    {
     "data": {
      "text/html": [
       "<div>\n",
       "<style scoped>\n",
       "    .dataframe tbody tr th:only-of-type {\n",
       "        vertical-align: middle;\n",
       "    }\n",
       "\n",
       "    .dataframe tbody tr th {\n",
       "        vertical-align: top;\n",
       "    }\n",
       "\n",
       "    .dataframe thead th {\n",
       "        text-align: right;\n",
       "    }\n",
       "</style>\n",
       "<table border=\"1\" class=\"dataframe\">\n",
       "  <thead>\n",
       "    <tr style=\"text-align: right;\">\n",
       "      <th></th>\n",
       "      <th>rel_rank</th>\n",
       "      <th>query</th>\n",
       "      <th>doc</th>\n",
       "    </tr>\n",
       "  </thead>\n",
       "  <tbody>\n",
       "    <tr>\n",
       "      <th>0</th>\n",
       "      <td>1</td>\n",
       "      <td>foods and supplements to lower blood sugar</td>\n",
       "      <td>A healthy diet is essential to reversing predi...</td>\n",
       "    </tr>\n",
       "    <tr>\n",
       "      <th>1</th>\n",
       "      <td>2</td>\n",
       "      <td>foods and supplements to lower blood sugar</td>\n",
       "      <td>Ohio State University, researchers saw insulin...</td>\n",
       "    </tr>\n",
       "    <tr>\n",
       "      <th>2</th>\n",
       "      <td>3</td>\n",
       "      <td>foods and supplements to lower blood sugar</td>\n",
       "      <td>Food And Supplements That Lower Blood Sugar Le...</td>\n",
       "    </tr>\n",
       "    <tr>\n",
       "      <th>3</th>\n",
       "      <td>4</td>\n",
       "      <td>foods and supplements to lower blood sugar</td>\n",
       "      <td>But studies show that eating certain foods may...</td>\n",
       "    </tr>\n",
       "    <tr>\n",
       "      <th>4</th>\n",
       "      <td>5</td>\n",
       "      <td>foods and supplements to lower blood sugar</td>\n",
       "      <td>7 easy tips to reduce insulin and lose belly f...</td>\n",
       "    </tr>\n",
       "  </tbody>\n",
       "</table>\n",
       "</div>"
      ],
      "text/plain": [
       "   rel_rank                                       query  \\\n",
       "0         1  foods and supplements to lower blood sugar   \n",
       "1         2  foods and supplements to lower blood sugar   \n",
       "2         3  foods and supplements to lower blood sugar   \n",
       "3         4  foods and supplements to lower blood sugar   \n",
       "4         5  foods and supplements to lower blood sugar   \n",
       "\n",
       "                                                 doc  \n",
       "0  A healthy diet is essential to reversing predi...  \n",
       "1  Ohio State University, researchers saw insulin...  \n",
       "2  Food And Supplements That Lower Blood Sugar Le...  \n",
       "3  But studies show that eating certain foods may...  \n",
       "4  7 easy tips to reduce insulin and lose belly f...  "
      ]
     },
     "execution_count": 2,
     "metadata": {},
     "output_type": "execute_result"
    }
   ],
   "source": [
    "# Loading bm-25 ranked documents\n",
    "\n",
    "df = pd.read_json(\"../data/bm_25_ranking.json\")\n",
    "df.head()"
   ]
  },
  {
   "cell_type": "code",
   "execution_count": 3,
   "metadata": {},
   "outputs": [],
   "source": [
    "# Re-rank documents using fine-tuned model\n",
    "\n",
    "\n",
    "class Reranker():\n",
    "\n",
    "    def __init__(self, model_name):\n",
    "        self.device = \"cuda\" if torch.cuda.is_available() else \"cpu\"\n",
    "        self.model = AutoModelForSeq2SeqLM.from_pretrained(model_name).to(self.device)\n",
    "        self.tokenizer = AutoTokenizer.from_pretrained(model_name)\n",
    "\n",
    "    def rank_documents(self,\n",
    "                       query: str,\n",
    "                       documents: List[str],\n",
    "                       top_k: int = 10) -> List[Tuple[str, float]]:\n",
    "        \n",
    "        scores = []\n",
    "        for doc in documents:\n",
    "            input_text = f\"Query: {query} Document: {doc} Relevant: \"\n",
    "            inputs = self.tokenizer(\n",
    "                input_text,\n",
    "                return_tensors=\"pt\",\n",
    "                max_length=512,\n",
    "                truncation=True\n",
    "            ).to(self.device)\n",
    "        \n",
    "            with torch.no_grad():\n",
    "                outputs = self.model(**inputs, labels=inputs[\"input_ids\"])\n",
    "                score = outputs.loss.item()\n",
    "            scores.append(score)\n",
    "\n",
    "        ranked_docs = list(zip(documents, scores))\n",
    "        ranked_docs.sort(key=lambda x: x[1], reverse=True)\n",
    "\n",
    "        return ranked_docs[:top_k]\n",
    "\n",
    "    def print_ranking(self,\n",
    "                      query: str,\n",
    "                      documents: List[str]) -> None:\n",
    "        ranked_results = self.rank_documents(query, documents)\n",
    "        print(f\"\\n {query} \\n\")\n",
    "        for rank, (doc, score) in enumerate(ranked_results, 1):\n",
    "            print(f\"{rank}. Document: {doc[:100]}...\\n\")"
   ]
  },
  {
   "cell_type": "code",
   "execution_count": 4,
   "metadata": {},
   "outputs": [],
   "source": [
    "# Example of a re-rank on 1000 documents \n",
    "\n",
    "query = df[\"query\"].unique()[0]\n",
    "relevant_documents = df[df[\"query\"] == query][\"doc\"].values"
   ]
  },
  {
   "cell_type": "code",
   "execution_count": 5,
   "metadata": {},
   "outputs": [
    {
     "name": "stderr",
     "output_type": "stream",
     "text": [
      "You set `add_prefix_space`. The tokenizer needs to be converted from the slow tokenizers\n",
      "Passing a tuple of `past_key_values` is deprecated and will be removed in Transformers v4.48.0. You should pass an instance of `EncoderDecoderCache` instead, e.g. `past_key_values=EncoderDecoderCache.from_legacy_cache(past_key_values)`.\n"
     ]
    },
    {
     "name": "stdout",
     "output_type": "stream",
     "text": [
      "\n",
      " foods and supplements to lower blood sugar \n",
      "\n",
      "1. Document: Choosing healthful meal and snack options can help you avoid heart disease and its complications. Be...\n",
      "\n",
      "2. Document: (That's just from supplements; it's okay if your daily magnesium intake is higher than 350 mg if you...\n",
      "\n",
      "3. Document: Whether youâve been diagnosed with diabetes or simply monitor your blood sugar levels to track you...\n",
      "\n",
      "4. Document: Before you treat for hypoglycemia, and if you are able, you should check your blood sugar level to m...\n",
      "\n",
      "5. Document: There are many approaches you can take when dealing with your diabetes treatment plan and how to sta...\n",
      "\n",
      "6. Document: GINGER TEA LOWERS BLOOD SUGAR. My balanced carb and protein diet is stabilized at 25gm fat, 100gm ca...\n",
      "\n",
      "7. Document: Side effects to some ingredients of high-dose pyridoxine hydrochloride (which is injected into the v...\n",
      "\n",
      "8. Document: So white bread is classified as having a high glycemic index. Brown rice, in contrast, is digested m...\n",
      "\n",
      "9. Document: If you have someone who has diabetes, their problem is that either they aren't producing insulin, or...\n",
      "\n",
      "10. Document: Dietary recommendations for lowering blood pressure, such as the DASH (Dietary Approaches to Stop Hy...\n",
      "\n"
     ]
    }
   ],
   "source": [
    "model_1 = \"pratham4521/T5-base-masmarco-finetuned\"\n",
    "ranker = Reranker(model_name = model_1)\n",
    "ranker.print_ranking(query, relevant_documents)"
   ]
  }
 ],
 "metadata": {
  "kernelspec": {
   "display_name": "torch",
   "language": "python",
   "name": "python3"
  },
  "language_info": {
   "codemirror_mode": {
    "name": "ipython",
    "version": 3
   },
   "file_extension": ".py",
   "mimetype": "text/x-python",
   "name": "python",
   "nbconvert_exporter": "python",
   "pygments_lexer": "ipython3",
   "version": "3.12.2"
  }
 },
 "nbformat": 4,
 "nbformat_minor": 2
}
